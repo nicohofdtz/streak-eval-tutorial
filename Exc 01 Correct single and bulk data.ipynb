{
 "cells": [
  {
   "cell_type": "markdown",
   "metadata": {},
   "source": [
    "## Import necessary python modules"
   ]
  },
  {
   "cell_type": "code",
   "execution_count": null,
   "metadata": {
    "tags": []
   },
   "outputs": [],
   "source": [
    "from copy import deepcopy as dc\n",
    "\n",
    "import matplotlib as mpl\n",
    "import matplotlib.pyplot as plt\n",
    "import numpy as np\n",
    "import pandas as pd\n",
    "from streakimageIR.streakimage import StreakImage\n",
    "import import_ipynb\n",
    "from helpful_functions import *\n",
    "\n",
    "import glob\n",
    "import os\n",
    "import re"
   ]
  },
  {
   "cell_type": "markdown",
   "metadata": {
    "execution": {
     "iopub.execute_input": "2021-05-11T14:50:46.868520Z",
     "iopub.status.busy": "2021-05-11T14:50:46.868520Z",
     "iopub.status.idle": "2021-05-11T14:50:46.883519Z",
     "shell.execute_reply": "2021-05-11T14:50:46.882518Z",
     "shell.execute_reply.started": "2021-05-11T14:50:46.868520Z"
    },
    "tags": []
   },
   "source": [
    "# Correct an individual dataset"
   ]
  },
  {
   "cell_type": "markdown",
   "metadata": {
    "execution": {
     "iopub.execute_input": "2020-11-03T09:10:38.764074Z",
     "iopub.status.busy": "2020-11-03T09:10:38.764074Z",
     "iopub.status.idle": "2020-11-03T09:10:38.766076Z",
     "shell.execute_reply": "2020-11-03T09:10:38.766076Z",
     "shell.execute_reply.started": "2020-11-03T09:10:38.764074Z"
    }
   },
   "source": [
    "## Import Data"
   ]
  },
  {
   "cell_type": "markdown",
   "metadata": {},
   "source": [
    "### Load background"
   ]
  },
  {
   "cell_type": "code",
   "execution_count": null,
   "metadata": {
    "tags": []
   },
   "outputs": [],
   "source": [
    "path_to_bg =  \"enter path to bg here\" # path relativ to notebook folder\n",
    "bg = StreakImage(path_to_bg)"
   ]
  },
  {
   "cell_type": "markdown",
   "metadata": {},
   "source": [
    "### Load image"
   ]
  },
  {
   "cell_type": "code",
   "execution_count": null,
   "metadata": {
    "tags": []
   },
   "outputs": [],
   "source": [
    "path_to_img = \"enter path to image here\" # path relativ to notebook folder\n",
    "image = StreakImage(path_to_img, bg=bg)"
   ]
  },
  {
   "cell_type": "markdown",
   "metadata": {},
   "source": [
    "### Correction\n",
    "\n",
    "Try different parameters for the corner widths and length to find a set of parameters that works well with all datasets.\n",
    "You may need to load different images."
   ]
  },
  {
   "cell_type": "markdown",
   "metadata": {},
   "source": [
    "### Background subtraction"
   ]
  },
  {
   "cell_type": "code",
   "execution_count": null,
   "metadata": {
    "tags": []
   },
   "outputs": [],
   "source": [
    "# defining variables vor better readability\n",
    "corner1_width = 100\n",
    "corner2_width = -50\n",
    "corner_length = 50\n",
    "\n",
    "def cornerbg(image: StreakImage, ci1=10, ci2=-20, t_max=10):\n",
    "    corner_1=image.data.iloc[:t_max,:ci1]\n",
    "    corner_2=image.data.iloc[:t_max,ci2:]\n",
    "    o1 = corner_1.mean().mean()\n",
    "    o2 = corner_2.mean().mean()\n",
    "    offset = (o1+o2)/2\n",
    "    image.data -= offset\n",
    "    \n",
    "def cornerbg_and_plot(image: StreakImage, ci1=100, ci2=-50, t_max=50):\n",
    "    fig, (ax1, ax2) = plt.subplots(1,2, figsize=(12.8,4.8))\n",
    "    \n",
    "    plot_heatmap(image.data, fig, ax1)\n",
    "    \n",
    "    origin1 = ax1.get_xlim()[0], ax1.get_ylim()[1]\n",
    "    box1 = plt.Rectangle(origin1, ci1, t_max, fc=\"none\", ec=\"r\", lw=2)\n",
    "    ax1.add_patch(box1)\n",
    "    origin2 = ax1.get_xlim()[1], ax1.get_ylim()[1]\n",
    "    box2 = plt.Rectangle(origin2, ci2, t_max, fc=\"none\", ec=\"r\", lw=2)\n",
    "    ax1.add_patch(box2)\n",
    "    \n",
    "    cornerbg(image=image, ci1=corner1_width, ci2=-corner2_width, t_max=corner_length)\n",
    "    plot_heatmap(image.data, fig, ax2)\n",
    "    \n",
    "cornerbg_and_plot(image)\n"
   ]
  },
  {
   "cell_type": "code",
   "execution_count": null,
   "metadata": {
    "tags": []
   },
   "outputs": [],
   "source": [
    "def apply_other_correction(image):\n",
    "    image.apply_gain_correction()\n",
    "    image.apply_exp_correction()\n",
    "#     image.apply_camera_correction() # missing camera correction\n",
    "#     image.apply_mono_correction() # missing mono correction\n",
    "    \n",
    "def correct_and_plot(image: StreakImage):\n",
    "    fig, (ax1, ax2) = plt.subplots(1,2, figsize=(12.8,4.8))\n",
    "    \n",
    "    plot_heatmap(image.data, fig, ax1)\n",
    "    apply_other_correction(image=image)\n",
    "    plot_heatmap(image.data, fig, ax2)\n",
    "    \n",
    "correct_and_plot(image)"
   ]
  },
  {
   "cell_type": "code",
   "execution_count": null,
   "metadata": {
    "tags": []
   },
   "outputs": [],
   "source": [
    "def get_spec_and_trans(image):\n",
    "    spec = np.sum(image.data.loc[:,:], axis=0)\n",
    "    trans = np.sum(image.data.loc[:,:], axis=1)\n",
    "    \n",
    "    spec.columns=[\"wavelength\", \"intensity\"]\n",
    "    return spec, trans\n",
    "\n",
    "def get_and_plot_spec_and_trans(image):\n",
    "    fig, (ax1, ax2) = plt.subplots(1,2, figsize=(12.8,4.8))\n",
    "    spec, trans = get_spec_and_trans(image)\n",
    "    \n",
    "    ax1.plot(spec)\n",
    "    ax2.plot(trans)\n",
    "    \n",
    "    ax1.set_xlim(left=780, right=900)\n",
    "    ax2.set_yscale(\"log\")\n",
    "\n",
    "get_and_plot_spec_and_trans(image)"
   ]
  },
  {
   "cell_type": "code",
   "execution_count": null,
   "metadata": {
    "tags": []
   },
   "outputs": [],
   "source": [
    "def export_spec_and_trans(image, file_path):\n",
    "    spec, trans = get_spec_and_trans(image)\n",
    "    \n",
    "    with open(f\"{file_path}_spec.txt\", 'w') as file:\n",
    "        spec.to_csv(file, header=[\"Intensity (arb. units)\"], index_label=\"Wavelength (nm)\")\n",
    "    with open(f\"{file_path}_trans.txt\", 'w') as file:\n",
    "        spec.to_csv(file, header=[\"Intensity (arb. units)\"], index_label=\"Time (ps)\")"
   ]
  },
  {
   "cell_type": "markdown",
   "metadata": {},
   "source": [
    "## Apply corrections to all images in a folder"
   ]
  },
  {
   "cell_type": "code",
   "execution_count": null,
   "metadata": {
    "tags": []
   },
   "outputs": [],
   "source": [
    "folder_path = \"enter path to folder here\"\n",
    "\n",
    "file_list = glob.glob(os.path.join(folder_path, \"*.img\"))\n",
    "bg_list = glob.glob(os.path.join(folder_path, \"BG*\"))\n",
    "\n",
    "image_list = [path for path in file_list if path not in bg_list]"
   ]
  },
  {
   "cell_type": "markdown",
   "metadata": {},
   "source": [
    "The fourth and fith last lines perform the corrections and plot images as above.\n",
    "Run the cell as is first and check your corrections.\n",
    "Then comment out the two lines and uncomment the three last lines to perform all correction and export all files."
   ]
  },
  {
   "cell_type": "code",
   "execution_count": null,
   "metadata": {
    "tags": []
   },
   "outputs": [],
   "source": [
    "for image in image_list:\n",
    "    fname = os.path.basename(image)\n",
    "    rex = r\"_(BGS[0-9][0-9][A-Z])_\"\n",
    "    bg_name = re.search(rex, fname).groups()[0]\n",
    "    \n",
    "    bg_path = [path for path in bg_list if bg_name in path][0]\n",
    "    \n",
    "    bg = StreakImage(bg_path)\n",
    "    image = StreakImage(image_list[0], bg=bg)\n",
    "    \n",
    "    cornerbg_and_plot(image)\n",
    "    correct_and_plot(image)\n",
    "    get_and_plot_spec_and_trans(image)\n",
    "\n",
    "#     cornerbg(image)\n",
    "#     apply_other_correction(image)\n",
    "#     export_spec_and_trans(image, f\"{folder_path}/export/{fname}\")"
   ]
  }
 ],
 "metadata": {
  "kernelspec": {
   "display_name": "streak-eval-tut-kernel",
   "language": "python",
   "name": "streak-eval-tut-kernel"
  },
  "language_info": {
   "codemirror_mode": {
    "name": "ipython",
    "version": 3
   },
   "file_extension": ".py",
   "mimetype": "text/x-python",
   "name": "python",
   "nbconvert_exporter": "python",
   "pygments_lexer": "ipython3",
   "version": "3.8.6"
  }
 },
 "nbformat": 4,
 "nbformat_minor": 4
}
