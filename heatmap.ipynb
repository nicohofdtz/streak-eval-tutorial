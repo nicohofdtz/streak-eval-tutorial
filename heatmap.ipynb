{
 "cells": [
  {
   "cell_type": "code",
   "execution_count": null,
   "metadata": {},
   "outputs": [],
   "source": [
    "import matplotlib as mpl\n",
    "import matplotlib.pyplot as plt\n",
    "import numpy as np\n",
    "import pandas as pd\n",
    "\n",
    "\n",
    "def conv_index_to_bins(index) -> pd.Index:\n",
    "    \"\"\"Calculate bins to contain the index values.\n",
    "    The start and end bin boundaries are linearly extrapolated from\n",
    "    the two first and last values. The middle bin boundaries are\n",
    "    midpoints.\n",
    "\n",
    "    Example 1: [0, 1] -> [-0.5, 0.5, 1.5]\n",
    "    Example 2: [0, 1, 4] -> [-0.5, 0.5, 2.5, 5.5]\n",
    "    Example 3: [4, 1, 0] -> [5.5, 2.5, 0.5, -0.5]\"\"\"\n",
    "    assert index.is_monotonic_increasing or index.is_monotonic_decreasing\n",
    "\n",
    "    # the beginning and end values are guessed from first and last two\n",
    "    start = index[0] - (index[1] - index[0]) / 2\n",
    "    end = index[-1] + (index[-1] - index[-2]) / 2\n",
    "\n",
    "    # the middle values are the midpoints\n",
    "    middle = pd.DataFrame({\"m1\": index[:-1], \"p1\": index[1:]})\n",
    "    middle = middle[\"m1\"] + (middle[\"p1\"] - middle[\"m1\"]) / 2\n",
    "\n",
    "    if isinstance(index, pd.DatetimeIndex):\n",
    "        idx = pd.DatetimeIndex(middle).union([start, end])\n",
    "    elif isinstance(index, (pd.Float64Index, pd.RangeIndex, pd.Int64Index)):\n",
    "        idx = pd.Float64Index(middle).union([start, end])\n",
    "    else:\n",
    "\n",
    "        idx = pd.Float64Index(middle).union([start, end])\n",
    "\n",
    "    return idx.sort_values(ascending=index.is_monotonic_increasing)\n",
    "\n",
    "\n",
    "def calc_df_mesh(df) -> list:\n",
    "    \"\"\"Calculate the two-dimensional bins to hold the index and\n",
    "    column values.\"\"\"\n",
    "    return np.meshgrid(conv_index_to_bins(df.columns), conv_index_to_bins(df.index))\n",
    "\n",
    "\n",
    "def heatmap(\n",
    "    df, ax: mpl.axes = None, cmap=None, vmin=None, vmax=None, norm=None\n",
    "):  # -> mpl.colorbar.Colorbar:\n",
    "    \"\"\"Plot a heatmap of the dataframe values using the index and\n",
    "    columns\"\"\"\n",
    "    X, Y = calc_df_mesh(df)\n",
    "    if ax:\n",
    "        im = ax.pcolormesh(X, Y, df.values, norm=norm, cmap=cmap, vmin=vmin, vmax=vmax)\n",
    "        return im\n",
    "    else:\n",
    "        c = plt.pcolormesh(X, Y, df.values, cmap=cmap, vmin=vmin, vmax=vmax)\n",
    "        plt.colorbar(c)"
   ]
  }
 ],
 "metadata": {
  "kernelspec": {
   "display_name": "Python 3",
   "language": "python",
   "name": "python3"
  },
  "language_info": {
   "codemirror_mode": {
    "name": "ipython",
    "version": 3
   },
   "file_extension": ".py",
   "mimetype": "text/x-python",
   "name": "python",
   "nbconvert_exporter": "python",
   "pygments_lexer": "ipython3",
   "version": "3.8.3"
  }
 },
 "nbformat": 4,
 "nbformat_minor": 4
}
