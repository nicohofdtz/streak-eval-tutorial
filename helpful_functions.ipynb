{
 "cells": [
  {
   "cell_type": "code",
   "execution_count": 1,
   "metadata": {
    "execution": {
     "iopub.execute_input": "2020-11-19T09:55:08.334479Z",
     "iopub.status.busy": "2020-11-19T09:55:08.334479Z",
     "iopub.status.idle": "2020-11-19T09:55:08.766895Z",
     "shell.execute_reply": "2020-11-19T09:55:08.766895Z",
     "shell.execute_reply.started": "2020-11-19T09:55:08.334479Z"
    }
   },
   "outputs": [],
   "source": [
    "import matplotlib as mpl\n",
    "import matplotlib.pyplot as plt\n",
    "import numpy as np\n",
    "import pandas as pd\n",
    "from streakimage2.streakimage import FileType, StreakImage"
   ]
  },
  {
   "cell_type": "code",
   "execution_count": null,
   "metadata": {},
   "outputs": [],
   "source": [
    "def plot_heatmap(\n",
    "    df: pd.DataFrame,\n",
    "    fig: mpl.figure.Figure,\n",
    "    ax,\n",
    "    shading=\"nearest\",\n",
    "    cmap=\"jet\",\n",
    "    norm=mpl.colors.LogNorm,\n",
    "    vmin=None,\n",
    "    vmax=None,\n",
    "    title: str = None,\n",
    "):\n",
    "    hm = ax.pcolormesh(\n",
    "        df.columns,\n",
    "        df.index,\n",
    "        df,\n",
    "        shading=shading,\n",
    "        cmap=cmap,\n",
    "        norm=norm(vmin=vmin, vmax=vmax),\n",
    "    )\n",
    "    fig.colorbar(hm, ax=ax)\n",
    "    if title:\n",
    "        ax.set_title(title)"
   ]
  }
 ],
 "metadata": {
  "kernelspec": {
   "display_name": "streak-eval-tut-kernel",
   "language": "python",
   "name": "streak-eval-tut-kernel"
  },
  "language_info": {
   "codemirror_mode": {
    "name": "ipython",
    "version": 3
   },
   "file_extension": ".py",
   "mimetype": "text/x-python",
   "name": "python",
   "nbconvert_exporter": "python",
   "pygments_lexer": "ipython3",
   "version": "3.8.6"
  }
 },
 "nbformat": 4,
 "nbformat_minor": 4
}
