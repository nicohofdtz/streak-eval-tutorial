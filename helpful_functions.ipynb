{
 "cells": [
  {
   "cell_type": "code",
   "execution_count": null,
   "metadata": {
    "tags": []
   },
   "outputs": [],
   "source": [
    "import matplotlib as mpl\n",
    "import matplotlib.pyplot as plt\n",
    "import numpy as np\n",
    "import pandas as pd\n",
    "from streakimageIR.streakimage import FileType, StreakImage"
   ]
  },
  {
   "cell_type": "code",
   "execution_count": null,
   "metadata": {
    "tags": []
   },
   "outputs": [],
   "source": [
    "def plot_heatmap(\n",
    "    df: pd.DataFrame,\n",
    "    fig: mpl.figure.Figure,\n",
    "    ax,\n",
    "    shading=\"nearest\",\n",
    "    cmap=\"jet\",\n",
    "    norm=mpl.colors.LogNorm,\n",
    "    vmin=None,\n",
    "    vmax=None,\n",
    "    title: str = None,\n",
    "    colorbar=True\n",
    "):\n",
    "    hm = ax.pcolormesh(\n",
    "        df.columns,\n",
    "        df.index,\n",
    "        df,\n",
    "        shading=shading,\n",
    "        cmap=cmap,\n",
    "        norm=norm(vmin=vmin, vmax=vmax),\n",
    "    )\n",
    "    if colorbar:\n",
    "        fig.colorbar(hm, ax=ax)\n",
    "    ax.invert_yaxis()\n",
    "    if title:\n",
    "        ax.set_title(title)\n",
    "    return hm"
   ]
  }
 ],
 "metadata": {
  "kernelspec": {
   "display_name": "streak-eval-tut-kernel",
   "language": "python",
   "name": "streak-eval-tut-kernel"
  },
  "language_info": {
   "codemirror_mode": {
    "name": "ipython",
    "version": 3
   },
   "file_extension": ".py",
   "mimetype": "text/x-python",
   "name": "python",
   "nbconvert_exporter": "python",
   "pygments_lexer": "ipython3",
   "version": "3.8.6"
  }
 },
 "nbformat": 4,
 "nbformat_minor": 4
}
